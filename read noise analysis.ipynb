{
 "cells": [
  {
   "cell_type": "code",
   "execution_count": 2,
   "metadata": {},
   "outputs": [],
   "source": [
    "# load necessary packages\n",
    "import numpy as np\n",
    "import matplotlib.pyplot as plt\n",
    "%matplotlib inline\n",
    "from astropy.io import fits"
   ]
  },
  {
   "cell_type": "code",
   "execution_count": 3,
   "metadata": {},
   "outputs": [],
   "source": [
    "############ fits files with defective exposures #####################\n",
    "# # store fits files\n",
    "# file_path = r'C:/Users/Linh/Downloads/millar blanchaer group/cred2 er characterization/data/read noise data/'\n",
    "\n",
    "# # files are separated by temperature and, within each list, sorted by fps ascending\n",
    "# # fits_files_-temp\n",
    "# fits_files_15 = ['-15.0C_0.021906_5.fits', '-15.0C_0.020479_10.fits', '-15.0C_0.020259_25.fits', '-15.0C_0.021247_50.fits', '-15.0C_0.020149_100.fits', '-15.0C_0.022785_200.fits', '-15.0C_0.02251_400.fits']\n",
    "# fits_files_20 = ['-20.0C_0.021906_5.fits', '-20.0C_0.020479_10.fits', '-20.0C_0.020259_25.fits', '-20.0C_0.021247_50.fits', '-20.0C_0.020149_100.fits', '-20.0C_0.022785_200.fits', '-20.0C_0.02251_400.fits']\n",
    "# fits_files_25 = ['-25.0C_0.021906_5.fits', '-25.0C_0.020479_10.fits', '-25.0C_0.020259_25.fits', '-25.0C_0.021247_50.fits', '-25.0C_0.020149_100.fits', '-25.0C_0.022785_200.fits', '-25.0C_0.02251_400.fits']\n",
    "# fits_files_30 = ['-30.0C_0.021906_5.fits', '-30.0C_0.020479_10.fits', '-30.0C_0.020259_25.fits', '-30.0C_0.021247_50.fits', '-30.0C_0.020149_100.fits', '-30.0C_0.022785_200.fits', '-30.0C_0.02251_400.fits']\n",
    "# fits_files_35 = ['-35.0C_0.021906_5.fits', '-35.0C_0.020479_10.fits', '-35.0C_0.020259_25.fits', '-35.0C_0.021247_50.fits', '-35.0C_0.020149_100.fits', '-35.0C_0.022785_200.fits', '-35.0C_0.02251_400.fits']\n",
    "# fits_files_40 = ['-40.0C_0.021906_5.fits', '-40.0C_0.020479_10.fits', '-40.0C_0.020259_25.fits', '-40.0C_0.021247_50.fits', '-40.0C_0.020149_100.fits', '-40.0C_0.022785_200.fits', '-40.0C_0.02251_400.fits']"
   ]
  },
  {
   "cell_type": "code",
   "execution_count": 3,
   "metadata": {},
   "outputs": [],
   "source": [
    "############## fits files without defective exposures: 10 exposures in each cube ########################\n",
    " # store fits files\n",
    "file_path = r'C:/Users/Linh/Downloads/millar blanchaer group/cred2 er characterization/data/read noise data/10exposures/'\n",
    "# files are separated by temperature and, within each list, sorted by fps ascending\n",
    "# fits_files_-temp\n",
    "fits_files_15 = [\"-15.0C_0.021906_5.fits\", \"-15.0C_0.020479_10.fits\", \"-15.0C_0.020259_25.fits\", \"-15.0C_0.021247_50.fits\", \"-15.0C_0.020149_100.fits\", \"-15.0C_0.022785_200.fits\", \"-15.0C_0.02251_400.fits\"]\n",
    "fits_files_20 = [\"-20.0C_0.021906_5.fits\", \"-20.0C_0.020479_10.fits\", \"-20.0C_0.020259_25.fits\", \"-20.0C_0.021247_50.fits\", \"-20.0C_0.020149_100.fits\", \"-20.0C_0.022785_200.fits\", \"-20.0C_0.02251_400.fits\"]\n",
    "fits_files_25 = [\"-25.0C_0.021906_5.fits\", \"-25.0C_0.020479_10.fits\", \"-25.0C_0.020259_25.fits\", \"-25.0C_0.021247_50.fits\", \"-25.0C_0.020149_100.fits\", \"-25.0C_0.022785_200.fits\", \"-25.0C_0.02251_400.fits\"]\n",
    "fits_files_30 = [\"-30.0C_0.021906_5.fits\",\"-30.0C_0.020479_10.fits\",\"-30.0C_0.020259_25.fits\",\"-30.0C_0.021247_50.fits\",\"-30.0C_0.020149_100.fits\",\"-30.0C_0.022785_200.fits\",\"-30.0C_0.02251_400.fits\"]\n",
    "fits_files_35 = [\"-35.0C_0.021906_5.fits\",\"-35.0C_0.020479_10.fits\",\"-35.0C_0.020259_25.fits\",\"-35.0C_0.021247_50.fits\",\"-35.0C_0.020149_100.fits\",\"-35.0C_0.022785_200.fits\",\"-35.0C_0.02251_400.fits\"]\n",
    "fits_files_40 = [\"-40.0C_0.021906_5.fits\",\"-40.0C_0.020479_10.fits\",\"-40.0C_0.020259_25.fits\",\"-40.0C_0.021247_50.fits\",\"-40.0C_0.020149_100.fits\",\"-40.0C_0.022785_200.fits\",\"-40.0C_0.02251_400.fits\"]"
   ]
  },
  {
   "cell_type": "code",
   "execution_count": 4,
   "metadata": {},
   "outputs": [
    {
     "data": {
      "text/plain": [
       "[np.float64(3.027055158159402),\n",
       " np.float64(3.0220303902075143),\n",
       " np.float64(3.0146456922876146),\n",
       " np.float64(3.0197789587224717),\n",
       " np.float64(3.0137771484630256),\n",
       " np.float64(3.0302885372473387),\n",
       " np.float64(3.0320855042830805)]"
      ]
     },
     "execution_count": 4,
     "metadata": {},
     "output_type": "execute_result"
    }
   ],
   "source": [
    "############ do this for every temperature ###########\n",
    "\n",
    "avg_read_noise_15 = [] # list of read noises at 15 degrees and differing fps \n",
    "# for each fits cube,...\n",
    "for file in fits_files_15:\n",
    "    data = fits.getdata(file_path + file) # load data\n",
    "    pixel_std = np.std(data, axis=0) # calculate std of each pixel over 50 exposures\n",
    "    avg_read_noise = np.mean(pixel_std) # average the std to determine avg read noise across detector\n",
    "    avg_read_noise_15.append(avg_read_noise)\n",
    "avg_read_noise_15\n"
   ]
  },
  {
   "cell_type": "code",
   "execution_count": 6,
   "metadata": {},
   "outputs": [
    {
     "data": {
      "text/plain": [
       "[np.float64(3.010467534272303),\n",
       " np.float64(3.0055026529401108),\n",
       " np.float64(3.0148394689749174),\n",
       " np.float64(3.017172595794112),\n",
       " np.float64(3.0088522581725092),\n",
       " np.float64(3.018232341520203),\n",
       " np.float64(3.0174278233998657)]"
      ]
     },
     "execution_count": 6,
     "metadata": {},
     "output_type": "execute_result"
    }
   ],
   "source": [
    "avg_read_noise_20 = [] # list of read noises at 20 degrees and differing fps\n",
    "for file in fits_files_20:\n",
    "    data = fits.getdata(file_path + file)\n",
    "    pixel_std = np.std(data, axis=0)\n",
    "    avg_read_noise = np.mean(pixel_std)\n",
    "    avg_read_noise_20.append(avg_read_noise)\n",
    "avg_read_noise_20"
   ]
  },
  {
   "cell_type": "code",
   "execution_count": 7,
   "metadata": {},
   "outputs": [
    {
     "data": {
      "text/plain": [
       "[np.float64(3.018736919743255),\n",
       " np.float64(3.0080694843063718),\n",
       " np.float64(3.0111412257661323),\n",
       " np.float64(3.00593365489138),\n",
       " np.float64(3.0087063651766397),\n",
       " np.float64(3.024902864776897),\n",
       " np.float64(3.0257446879922787)]"
      ]
     },
     "execution_count": 7,
     "metadata": {},
     "output_type": "execute_result"
    }
   ],
   "source": [
    "avg_read_noise_25 = [] # list of read noises at 25 degrees and differing fps\n",
    "for file in fits_files_25:\n",
    "    data = fits.getdata(file_path + file)\n",
    "    pixel_std = np.std(data, axis=0)\n",
    "    avg_read_noise = np.mean(pixel_std)\n",
    "    avg_read_noise_25.append(avg_read_noise)\n",
    "avg_read_noise_25\n"
   ]
  },
  {
   "cell_type": "code",
   "execution_count": 8,
   "metadata": {},
   "outputs": [
    {
     "data": {
      "text/plain": [
       "[np.float64(2.984589435543232),\n",
       " np.float64(2.9698578945046665),\n",
       " np.float64(2.9701734107687257),\n",
       " np.float64(2.9780000172348573),\n",
       " np.float64(2.971201663039305),\n",
       " np.float64(2.975333813189942),\n",
       " np.float64(2.985997086936238)]"
      ]
     },
     "execution_count": 8,
     "metadata": {},
     "output_type": "execute_result"
    }
   ],
   "source": [
    "\n",
    "avg_read_noise_30 = [] # list of read noises at 30 degrees and differing fps\n",
    "for file in fits_files_30:\n",
    "    data = fits.getdata(file_path + file)\n",
    "    pixel_std = np.std(data, axis=0)\n",
    "    avg_read_noise = np.mean(pixel_std)\n",
    "    avg_read_noise_30.append(avg_read_noise)\n",
    "avg_read_noise_30\n"
   ]
  },
  {
   "cell_type": "code",
   "execution_count": 9,
   "metadata": {},
   "outputs": [
    {
     "data": {
      "text/plain": [
       "[np.float64(3.041415506183044),\n",
       " np.float64(3.035252555914325),\n",
       " np.float64(3.052813559607466),\n",
       " np.float64(3.063355561892254),\n",
       " np.float64(3.0581201677922536),\n",
       " np.float64(3.049620365743988),\n",
       " np.float64(3.05604073976314)]"
      ]
     },
     "execution_count": 9,
     "metadata": {},
     "output_type": "execute_result"
    }
   ],
   "source": [
    "\n",
    "avg_read_noise_35 = [] # list of read noises at 35 degrees and differing fps\n",
    "for file in fits_files_35:\n",
    "    data = fits.getdata(file_path + file)\n",
    "    pixel_std = np.std(data, axis=0)\n",
    "    avg_read_noise = np.mean(pixel_std)\n",
    "    avg_read_noise_35.append(avg_read_noise)\n",
    "avg_read_noise_35\n"
   ]
  },
  {
   "cell_type": "code",
   "execution_count": 10,
   "metadata": {},
   "outputs": [
    {
     "data": {
      "text/plain": [
       "[np.float64(3.0108378813999352),\n",
       " np.float64(3.0029670713042416),\n",
       " np.float64(3.009202468219418),\n",
       " np.float64(3.001031388368246),\n",
       " np.float64(3.0081767417092573),\n",
       " np.float64(3.004374788554769),\n",
       " np.float64(2.996609592734612)]"
      ]
     },
     "execution_count": 10,
     "metadata": {},
     "output_type": "execute_result"
    }
   ],
   "source": [
    "\n",
    "avg_read_noise_40 = [] # list of read noises at 40 degrees and differing fps\n",
    "for file in fits_files_40:\n",
    "    data = fits.getdata(file_path + file)\n",
    "    pixel_std = np.std(data, axis=0)\n",
    "    avg_read_noise = np.mean(pixel_std)\n",
    "    avg_read_noise_40.append(avg_read_noise)\n",
    "avg_read_noise_40"
   ]
  },
  {
   "cell_type": "code",
   "execution_count": 19,
   "metadata": {},
   "outputs": [
    {
     "data": {
      "image/png": "[encoded data removed]",
      "text/plain": [
       "<Figure size 640x480 with 1 Axes>"
      ]
     },
     "metadata": {},
     "output_type": "display_data"
    }
   ],
   "source": [
    "# plot avg read noise at each temp and fps\n",
    "fps = [5, 10, 25, 50, 100, 200, 400]\n",
    "plt.plot(fps, avg_read_noise_15, '-s', label='-15C', color='brown')\n",
    "plt.plot(fps, avg_read_noise_20, '-s', label='-20C', color='chocolate')\n",
    "plt.plot(fps, avg_read_noise_25, '-s', label='-25C', color='sandybrown')\n",
    "plt.plot(fps, avg_read_noise_30, '-s', label='-30C', color = 'lightblue')\n",
    "plt.plot(fps, avg_read_noise_35, '-s', label='-35C', color = 'steelblue')\n",
    "plt.plot(fps, avg_read_noise_40, '-s', label='-40C', color = 'navy')\n",
    "\n",
    "plt.xlabel('fps')\n",
    "plt.ylabel('mean read noise across array (ADU)') # convert to electrons?? need camera gain\n",
    "plt.legend(loc='upper left', bbox_to_anchor=(1, .7))\n",
    "plt.savefig('read_noise.png', dpi=300, transparent=True, bbox_inches='tight')"
   ]
  },
  {
   "cell_type": "code",
   "execution_count": 13,
   "metadata": {},
   "outputs": [],
   "source": [
    "####################################### everything below is additional analysis for defective frames ###########################################\n",
    "# apply for each fits cube section :(: this is necessary b/c of different noise patterns within a single fits cube? \n",
    "def read_noise(fits_cube, frameStart, frameEnd):\n",
    "    test_data = fits.getdata(file_path + fits_cube)\n",
    "    exposures_from_to = test_data[frameStart-1:frameEnd, :, :]\n",
    "    exposures_median = np.median(exposures_from_to, axis=(1, 2))[:, np.newaxis, np.newaxis] # calculate median for each exposure\n",
    "    noise_from_to = exposures_from_to - exposures_median # subtract median of each exposure from fits cube to get noise\n",
    "    avg_read_noise = np.std(noise_from_to)\n",
    "    return avg_read_noise\n",
    "\n",
    "# run to get fits file to find where exposures differ in noise pattern\n",
    "def noise_fits_file(fits_cube):\n",
    "    test_data = fits.getdata(file_path + fits_cube)\n",
    "    test_median = np.median(test_data, axis=0)\n",
    "    noise_all_frames = test_data - test_median\n",
    "    hdu = fits.PrimaryHDU(noise_all_frames)\n",
    "    hdu.writeto('noise.fits', overwrite=True)"
   ]
  },
  {
   "cell_type": "code",
   "execution_count": 12,
   "metadata": {},
   "outputs": [
    {
     "name": "stdout",
     "output_type": "stream",
     "text": [
      "60.47163446642336\n",
      "90.51776671067029\n"
     ]
    }
   ],
   "source": [
    "# -40C, 5 fps\n",
    "# splices fits cube, finds noise of each section, and averages\n",
    "# frames 1-15 are dark, 16-39 has one noise pattern, 40-50 has a different noise pattern\n",
    "avg_read_noise1_15 = read_noise(fits_files_40[0], 1, 15)\n",
    "avg_read_noise16_39 = read_noise(fits_files_40[0], 16, 39)\n",
    "avg_read_noise40_50 = read_noise(fits_files_40[0], 40, 50)\n",
    "avg_read_noise40_5 = (avg_read_noise1_15 + avg_read_noise16_39 + avg_read_noise40_50)/3\n",
    "print(avg_read_noise40_5)\n",
    "\n",
    "# -40C, 400 fps\n",
    "# fits cube has normal noise pattern so cannot section b/c every exposure is different \n",
    "# noise_fits_file(fits_files_40[6])\n",
    "avg_read_noise40_400 = read_noise(fits_files_40[6], 1, 50)\n",
    "print(avg_read_noise40_400) # this is too high, this temp and frame rate is supposed to have the lowest read noise\n"
   ]
  },
  {
   "cell_type": "code",
   "execution_count": 13,
   "metadata": {},
   "outputs": [
    {
     "name": "stdout",
     "output_type": "stream",
     "text": [
      "64.5083206834225\n"
     ]
    }
   ],
   "source": [
    "# -15C, 5 fps\n",
    "# frames 1-16 are dark, 17-39 has one noise pattern, 40-50 has a different noise pattern\n",
    "avg_read_noise1_16 = read_noise(fits_files_15[0], 1, 16)\n",
    "avg_read_noise17_39 = read_noise(fits_files_15[0], 17, 39)\n",
    "avg_read_noise40_50 = read_noise(fits_files_15[0], 40, 50)\n",
    "avg_read_noise15_5 = (avg_read_noise1_16 + avg_read_noise17_39 + avg_read_noise40_50)/3\n",
    "print(avg_read_noise15_5)\n"
   ]
  },
  {
   "cell_type": "code",
   "execution_count": 14,
   "metadata": {},
   "outputs": [],
   "source": [
    "# to see which files have different noise patterns at different ranges of exposures: \n",
    "# -40C, 5 fps (completely dark frames, median-subtracted image doesn't look like noise, 2 noise patterns)\n",
    "# -40C, 10 fps (completely dark frames, sections are a bit smaller)\n",
    "# -40C, 25 fps (1 dark frame, sections are 7-8 exposures)\n",
    "# -40C, 50 fps (normal)\n",
    "# -40C, 100 fps (normal)\n",
    "# -40C, 200 fps (normal)\n",
    "# -40C, 400 fps (normal)\n",
    "\n",
    "# -35C, 5 fps (19 dark frames)\n",
    "# -35C, 10 fps (5 dark frames)\n",
    "# -35C, 25 fps (normal)\n",
    "# -35C, 50 fps (normal)\n",
    "# -35C, 100 fps (normal)\n",
    "# -35C, 200 fps (normal)\n",
    "# -35C, 400 fps (normal)\n",
    "\n",
    "# -30C, 5 fps (7 dark frames)\n",
    "# -30C, 10 fps (12 dark frames)\n",
    "# -30C, 25 fps (3 dark frames)\n",
    "# -30C, 50 fps (normal)\n",
    "# -30C, 100 fps (normal)\n",
    "# -30C, 200 fps (normal)\n",
    "# -30C, 400 fps (normal)\n",
    "\n",
    "# -25C, 5 fps (12 dark frames)\n",
    "# -25C, 10 fps (5 dark frames)\n",
    "# -25C, 25 fps (normal)\n",
    "# -25C, 50 fps (normal)\n",
    "# -25C, 100 fps (normal)\n",
    "# -25C, 200 fps (normal)\n",
    "# -25C, 400 fps (normal)\n",
    "\n",
    "# -20C, 5 fps (normal)\n",
    "# -20C, 10 fps (6 dark frames)\n",
    "# -20C, 25 fps (normal)\n",
    "# -20C, 50 fps (normal)\n",
    "# -20C, 100 fps (normal)\n",
    "# -20C, 200 fps (normal)\n",
    "# -20C, 400 fps (normal)\n",
    "\n",
    "# -15C, 5 fps (dark frames)\n",
    "# -15C, 10 fps (normal)\n",
    "# -15C, 25 fps (1 dark frame)\n",
    "# -15C, 50 fps (normal)\n",
    "# -15C, 100 fps (normal)\n",
    "# -15C, 200 fps (normal)\n",
    "# -15C, 400 fps (normal)\n",
    "\n",
    "# noise_fits_file(fits_files_40[5]) "
   ]
  }
 ],
 "metadata": {
  "kernelspec": {
   "display_name": "Python 3",
   "language": "python",
   "name": "python3"
  },
  "language_info": {
   "codemirror_mode": {
    "name": "ipython",
    "version": 3
   },
   "file_extension": ".py",
   "mimetype": "text/x-python",
   "name": "python",
   "nbconvert_exporter": "python",
   "pygments_lexer": "ipython3",
   "version": "3.12.2"
  }
 },
 "nbformat": 4,
 "nbformat_minor": 2
}
