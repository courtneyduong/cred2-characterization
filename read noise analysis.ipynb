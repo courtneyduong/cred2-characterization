{
 "cells": [
  {
   "cell_type": "code",
   "execution_count": 2,
   "metadata": {},
   "outputs": [],
   "source": [
    "# load necessary packages\n",
    "import numpy as np\n",
    "import matplotlib.pyplot as plt\n",
    "%matplotlib inline\n",
    "from astropy.io import fits"
   ]
  },
  {
   "cell_type": "code",
   "execution_count": 54,
   "metadata": {},
   "outputs": [],
   "source": [
    "# store fits files\n",
    "file_path = r'C:/Users/Linh/Downloads/millar blanchaer group/cred2 er characterization/data/read noise data/'\n",
    "# files are separated by temperature and, within each list, sorted by fps ascending\n",
    "# fits_files_temp\n",
    "fits_files_15 = ['-15.0C_0.021906_5.fits', '-15.0C_0.020479_10.fits', '-15.0C_0.020259_25.fits', '-15.0C_0.021247_50.fits', '-15.0C_0.020149_100.fits', '-15.0C_0.022785_200.fits', '-15.0C_0.02251_400.fits']\n",
    "fits_files_20 = ['-20.0C_0.021906_5.fits', '-20.0C_0.020479_10.fits', '-20.0C_0.020259_25.fits', '-20.0C_0.021247_50.fits', '-20.0C_0.020149_100.fits', '-20.0C_0.022785_200.fits', '-20.0C_0.02251_400.fits']\n",
    "fits_files_25 = ['-25.0C_0.021906_5.fits', '-25.0C_0.020479_10.fits', '-25.0C_0.020259_25.fits', '-25.0C_0.021247_50.fits', '-25.0C_0.020149_100.fits', '-25.0C_0.022785_200.fits', '-25.0C_0.02251_400.fits']\n",
    "fits_files_30 = ['-30.0C_0.021906_5.fits', '-30.0C_0.020479_10.fits', '-30.0C_0.020259_25.fits', '-30.0C_0.021247_50.fits', '-30.0C_0.020149_100.fits', '-30.0C_0.022785_200.fits', '-30.0C_0.02251_400.fits']\n",
    "fits_files_35 = ['-35.0C_0.021906_5.fits', '-35.0C_0.020479_10.fits', '-35.0C_0.020259_25.fits', '-35.0C_0.021247_50.fits', '-35.0C_0.020149_100.fits', '-35.0C_0.022785_200.fits', '-35.0C_0.02251_400.fits']\n",
    "fits_files_40 = ['-40.0C_0.021906_5.fits', '-40.0C_0.020479_10.fits', '-40.0C_0.020259_25.fits', '-40.0C_0.021247_50.fits', '-40.0C_0.020149_100.fits', '-40.0C_0.022785_200.fits', '-40.0C_0.02251_400.fits']"
   ]
  },
  {
   "cell_type": "code",
   "execution_count": 110,
   "metadata": {},
   "outputs": [
    {
     "data": {
      "text/plain": [
       "[np.float64(574.6494606866333),\n",
       " np.float64(2.6709687857786157),\n",
       " np.float64(172.4460468557456),\n",
       " np.float64(3.1563086336422463),\n",
       " np.float64(3.1935116600397144),\n",
       " np.float64(3.205706303533179),\n",
       " np.float64(3.2241821948106257)]"
      ]
     },
     "execution_count": 110,
     "metadata": {},
     "output_type": "execute_result"
    }
   ],
   "source": [
    "############ do this for every temperature ###########\n",
    "\n",
    "# for each fits cube, load data, calculate std over 50 exposures, and average the std to determine avg read noise across detector\n",
    "avg_read_noise_15 = [] # list of read noises at 15 degrees and differing fps\n",
    "for file in fits_files_15:\n",
    "    data = fits.getdata(file_path + file)\n",
    "    pixel_std = np.std(data, axis=0)\n",
    "    avg_read_noise = np.mean(pixel_std)\n",
    "    avg_read_noise_15.append(avg_read_noise)\n",
    "avg_read_noise_15\n"
   ]
  },
  {
   "cell_type": "code",
   "execution_count": 109,
   "metadata": {},
   "outputs": [
    {
     "data": {
      "text/plain": [
       "[np.float64(2.1247539470662664),\n",
       " np.float64(388.08547587461385),\n",
       " np.float64(3.0219764336959103),\n",
       " np.float64(3.149685395466302),\n",
       " np.float64(3.1792183040949435),\n",
       " np.float64(3.1955414055801508),\n",
       " np.float64(3.2160870148880676)]"
      ]
     },
     "execution_count": 109,
     "metadata": {},
     "output_type": "execute_result"
    }
   ],
   "source": [
    "avg_read_noise_20 = [] # list of read noises at 20 degrees and differing fps\n",
    "for file in fits_files_20:\n",
    "    data = fits.getdata(file_path + file)\n",
    "    pixel_std = np.std(data, axis=0)\n",
    "    avg_read_noise = np.mean(pixel_std)\n",
    "    avg_read_noise_20.append(avg_read_noise)\n",
    "avg_read_noise_20"
   ]
  },
  {
   "cell_type": "code",
   "execution_count": 108,
   "metadata": {},
   "outputs": [
    {
     "data": {
      "text/plain": [
       "[np.float64(494.3801964863739),\n",
       " np.float64(347.2704716662505),\n",
       " np.float64(3.0187675087109063),\n",
       " np.float64(3.1356968184638605),\n",
       " np.float64(3.1727794055582406),\n",
       " np.float64(3.1822593725811252),\n",
       " np.float64(3.205981208811295)]"
      ]
     },
     "execution_count": 108,
     "metadata": {},
     "output_type": "execute_result"
    }
   ],
   "source": [
    "avg_read_noise_25 = [] # list of read noises at 25 degrees and differing fps\n",
    "for file in fits_files_25:\n",
    "    data = fits.getdata(file_path + file)\n",
    "    pixel_std = np.std(data, axis=0)\n",
    "    avg_read_noise = np.mean(pixel_std)\n",
    "    avg_read_noise_25.append(avg_read_noise)\n",
    "avg_read_noise_25\n"
   ]
  },
  {
   "cell_type": "code",
   "execution_count": 107,
   "metadata": {},
   "outputs": [
    {
     "data": {
      "text/plain": [
       "[np.float64(389.1985663006091),\n",
       " np.float64(478.8089957937471),\n",
       " np.float64(266.22959358477937),\n",
       " np.float64(3.090800021297689),\n",
       " np.float64(3.1355948227923425),\n",
       " np.float64(3.1424242536257627),\n",
       " np.float64(3.1661605130078883)]"
      ]
     },
     "execution_count": 107,
     "metadata": {},
     "output_type": "execute_result"
    }
   ],
   "source": [
    "\n",
    "avg_read_noise_30 = [] # list of read noises at 30 degrees and differing fps\n",
    "for file in fits_files_30:\n",
    "    data = fits.getdata(file_path + file)\n",
    "    pixel_std = np.std(data, axis=0)\n",
    "    avg_read_noise = np.mean(pixel_std)\n",
    "    avg_read_noise_30.append(avg_read_noise)\n",
    "avg_read_noise_30\n"
   ]
  },
  {
   "cell_type": "code",
   "execution_count": 106,
   "metadata": {},
   "outputs": [
    {
     "data": {
      "text/plain": [
       "[np.float64(528.0805410023061),\n",
       " np.float64(326.27975378084136),\n",
       " np.float64(3.0548841675350347),\n",
       " np.float64(3.178138154052533),\n",
       " np.float64(3.2348052315139038),\n",
       " np.float64(3.2385369188436948),\n",
       " np.float64(3.243171433694581)]"
      ]
     },
     "execution_count": 106,
     "metadata": {},
     "output_type": "execute_result"
    }
   ],
   "source": [
    "\n",
    "avg_read_noise_35 = [] # list of read noises at 35 degrees and differing fps\n",
    "for file in fits_files_35:\n",
    "    data = fits.getdata(file_path + file)\n",
    "    pixel_std = np.std(data, axis=0)\n",
    "    avg_read_noise = np.mean(pixel_std)\n",
    "    avg_read_noise_35.append(avg_read_noise)\n",
    "avg_read_noise_35\n"
   ]
  },
  {
   "cell_type": "code",
   "execution_count": 105,
   "metadata": {},
   "outputs": [
    {
     "data": {
      "text/plain": [
       "[np.float64(483.50898954785936),\n",
       " np.float64(365.7479377834044),\n",
       " np.float64(147.48936876289505),\n",
       " np.float64(3.0692078125627993),\n",
       " np.float64(3.13846062007102),\n",
       " np.float64(3.1821979571401178),\n",
       " np.float64(3.2107102884460104)]"
      ]
     },
     "execution_count": 105,
     "metadata": {},
     "output_type": "execute_result"
    }
   ],
   "source": [
    "\n",
    "avg_read_noise_40 = [] # list of read noises at 40 degrees and differing fps\n",
    "for file in fits_files_40:\n",
    "    data = fits.getdata(file_path + file)\n",
    "    pixel_std = np.std(data, axis=0)\n",
    "    avg_read_noise = np.mean(pixel_std)\n",
    "    avg_read_noise_40.append(avg_read_noise)\n",
    "avg_read_noise_40"
   ]
  },
  {
   "cell_type": "code",
   "execution_count": 104,
   "metadata": {},
   "outputs": [
    {
     "data": {
      "text/plain": [
       "<matplotlib.legend.Legend at 0x187d544a240>"
      ]
     },
     "execution_count": 104,
     "metadata": {},
     "output_type": "execute_result"
    },
    {
     "data": {
      "image/png": "[encoded data removed]",
      "text/plain": [
       "<Figure size 640x480 with 1 Axes>"
      ]
     },
     "metadata": {},
     "output_type": "display_data"
    }
   ],
   "source": [
    "# plot avg read noise at each temp and fps\n",
    "fps = [5, 10, 25, 50, 100, 200, 400]\n",
    "plt.plot(fps, avg_read_noise_15, '-o', label='-15C', color='brown')\n",
    "plt.plot(fps, avg_read_noise_20, '-o', label='-20C', color='chocolate')\n",
    "plt.plot(fps, avg_read_noise_25, '-o', label='-25C', color='sandybrown')\n",
    "plt.plot(fps, avg_read_noise_30, '-o', label='-30C', color = 'lightblue')\n",
    "plt.plot(fps, avg_read_noise_35, '-o', label='-35C', color = 'steelblue')\n",
    "plt.plot(fps, avg_read_noise_40, '-o', label='-40C', color = 'navy')\n",
    "\n",
    "plt.xlabel('fps')\n",
    "plt.ylabel('mean read noise across array (ADU)') # convert to electrons?? idk\n",
    "plt.legend()\n"
   ]
  }
 ],
 "metadata": {
  "kernelspec": {
   "display_name": "Python 3",
   "language": "python",
   "name": "python3"
  },
  "language_info": {
   "codemirror_mode": {
    "name": "ipython",
    "version": 3
   },
   "file_extension": ".py",
   "mimetype": "text/x-python",
   "name": "python",
   "nbconvert_exporter": "python",
   "pygments_lexer": "ipython3",
   "version": "3.12.2"
  }
 },
 "nbformat": 4,
 "nbformat_minor": 2
}
